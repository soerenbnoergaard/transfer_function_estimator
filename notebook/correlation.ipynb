{
 "cells": [
  {
   "cell_type": "markdown",
   "id": "f3015811-857f-403d-8061-6a80c0450449",
   "metadata": {},
   "source": [
    "# Correlation\n",
    "\n",
    "Using cross- and autocorrelation to deconvolve.\n",
    "\n",
    "Resources:\n",
    "- Proakis 1996 Digital Signal Processing p. 365"
   ]
  },
  {
   "cell_type": "code",
   "execution_count": 1,
   "id": "285aaebd-fae3-4704-ae3e-f7973e97ddb5",
   "metadata": {},
   "outputs": [],
   "source": [
    "import time\n",
    "\n",
    "import numpy as np\n",
    "import matplotlib.pyplot as plt\n",
    "import soundfile as sf\n",
    "\n",
    "import scipy.signal"
   ]
  },
  {
   "cell_type": "code",
   "execution_count": 2,
   "id": "fe96f430-2215-40d4-9b60-06d3f79ffaa1",
   "metadata": {},
   "outputs": [],
   "source": [
    "INPUT_FILE = \"data/martin_dcx1re_c414_left_pickup_right.wav\""
   ]
  },
  {
   "cell_type": "code",
   "execution_count": 3,
   "id": "16484a8a-9e32-4f1e-948f-497e03598aea",
   "metadata": {},
   "outputs": [],
   "source": [
    "data, sample_rate_Hz = sf.read(INPUT_FILE)\n",
    "ydata, xdata = data.T"
   ]
  },
  {
   "cell_type": "markdown",
   "id": "541a0974-6b46-4849-935d-fb2fe4b3a540",
   "metadata": {},
   "source": [
    "## Naive deconvolution"
   ]
  },
  {
   "cell_type": "code",
   "execution_count": 4,
   "id": "69481d00-d4ae-430e-93f4-7b130bd61bc8",
   "metadata": {},
   "outputs": [],
   "source": [
    "w = np.blackman(len(xdata))\n",
    "X = np.fft.fft(w * xdata, 2048)\n",
    "Y = np.fft.fft(w * ydata, 2048)\n",
    "H = Y/X"
   ]
  },
  {
   "cell_type": "code",
   "execution_count": 5,
   "id": "485c2054-f21d-416c-9664-2d4c6703abd9",
   "metadata": {},
   "outputs": [],
   "source": [
    "def freqresp(H, fig=None, ax=None):\n",
    "    f = np.linspace(0, sample_rate_Hz, len(H))\n",
    "    end = len(f)//2\n",
    "    f_ = f[0:end]\n",
    "    H_ = 20*np.log10(np.abs(H[0:end]))\n",
    "    \n",
    "    if ax is None:\n",
    "        fig, ax = plt.subplots(1, 1, figsize=(8, 3))\n",
    "        \n",
    "    ax.semilogx(f_, H_)\n",
    "    ax.grid()\n",
    "    fig.tight_layout()\n",
    "    return fig, ax\n",
    "\n",
    "pass"
   ]
  },
  {
   "cell_type": "markdown",
   "id": "09d7f62c-30ee-41f1-954c-0b77ad35981e",
   "metadata": {},
   "source": [
    "## Deconvolution using correlation"
   ]
  },
  {
   "cell_type": "code",
   "execution_count": 6,
   "id": "ff813a4d-61b7-4c6d-91a1-9680e968f573",
   "metadata": {},
   "outputs": [],
   "source": [
    "ryx = scipy.signal.correlate(ydata, xdata, mode=\"full\", method=\"fft\")\n",
    "rxx = scipy.signal.correlate(xdata, xdata, mode=\"full\", method=\"fft\")"
   ]
  },
  {
   "cell_type": "code",
   "execution_count": 7,
   "id": "e866dd4e-b604-4678-a981-67d0a7d80ab9",
   "metadata": {},
   "outputs": [
    {
     "data": {
      "image/png": "[encoded data removed]",
      "text/plain": [
       "<Figure size 576x216 with 1 Axes>"
      ]
     },
     "metadata": {
      "needs_background": "light"
     },
     "output_type": "display_data"
    }
   ],
   "source": [
    "L = 2048\n",
    "Syx = np.fft.fft(ryx, L)\n",
    "Sxx = np.fft.fft(rxx, L)\n",
    "H = Syx/Sxx\n",
    "\n",
    "freqresp(H)\n",
    "pass"
   ]
  },
  {
   "cell_type": "markdown",
   "id": "8ae82968-2111-4b80-8a8a-47ccb44b73e9",
   "metadata": {},
   "source": [
    "## Impulse response"
   ]
  },
  {
   "cell_type": "code",
   "execution_count": 8,
   "id": "fd4bbc3a-d4ac-40c5-940a-572bd71d55a0",
   "metadata": {},
   "outputs": [
    {
     "data": {
      "text/plain": [
       "[<matplotlib.lines.Line2D at 0x7fff91dde8b0>]"
      ]
     },
     "execution_count": 8,
     "metadata": {},
     "output_type": "execute_result"
    },
    {
     "data": {
      "image/png": "[encoded data removed]",
      "text/plain": [
       "<Figure size 432x288 with 1 Axes>"
      ]
     },
     "metadata": {
      "needs_background": "light"
     },
     "output_type": "display_data"
    }
   ],
   "source": [
    "h = np.real(np.fft.ifft(H))\n",
    "plt.plot(h)\n",
    "# sf.write(f\"ir_{int(time.time())}.wav\", h, samplerate=sample_rate_Hz)"
   ]
  },
  {
   "cell_type": "markdown",
   "id": "5b397c14-d9c0-4403-b945-2288455aa970",
   "metadata": {},
   "source": [
    "## Conclusion\n",
    "\n",
    "This does not look correct. There is almost no frequency-dependency except at DC."
   ]
  }
 ],
 "metadata": {
  "kernelspec": {
   "display_name": "Python 3 (ipykernel)",
   "language": "python",
   "name": "python3"
  },
  "language_info": {
   "codemirror_mode": {
    "name": "ipython",
    "version": 3
   },
   "file_extension": ".py",
   "mimetype": "text/x-python",
   "name": "python",
   "nbconvert_exporter": "python",
   "pygments_lexer": "ipython3",
   "version": "3.8.10"
  }
 },
 "nbformat": 4,
 "nbformat_minor": 5
}
